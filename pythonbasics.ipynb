{
  "nbformat": 4,
  "nbformat_minor": 0,
  "metadata": {
    "colab": {
      "provenance": [],
      "authorship_tag": "ABX9TyPyH5Fj7Lh5/FI7/yprLGUg",
      "include_colab_link": true
    },
    "kernelspec": {
      "name": "python3",
      "display_name": "Python 3"
    },
    "language_info": {
      "name": "python"
    }
  },
  "cells": [
    {
      "cell_type": "markdown",
      "metadata": {
        "id": "view-in-github",
        "colab_type": "text"
      },
      "source": [
        "<a href=\"https://colab.research.google.com/github/snigdhareddy482/AI-research/blob/main/pythonbasics.ipynb\" target=\"_parent\"><img src=\"https://colab.research.google.com/assets/colab-badge.svg\" alt=\"Open In Colab\"/></a>"
      ]
    },
    {
      "cell_type": "code",
      "execution_count": null,
      "metadata": {
        "colab": {
          "base_uri": "https://localhost:8080/"
        },
        "id": "bXdQuW9Fb7ju",
        "outputId": "04266614-eac6-4087-bf4a-7d0dabc59dc4"
      },
      "outputs": [
        {
          "output_type": "stream",
          "name": "stdout",
          "text": [
            "Hello\n"
          ]
        }
      ],
      "source": [
        "print(\"Hello\")"
      ]
    },
    {
      "cell_type": "code",
      "source": [
        "print(\"snigdha\",\"hello\")"
      ],
      "metadata": {
        "colab": {
          "base_uri": "https://localhost:8080/"
        },
        "id": "EztVDTlHb_oT",
        "outputId": "766d9bd9-0467-4874-f310-6dd1d45b7d72"
      },
      "execution_count": null,
      "outputs": [
        {
          "output_type": "stream",
          "name": "stdout",
          "text": [
            "snigdha hello\n"
          ]
        }
      ]
    },
    {
      "cell_type": "code",
      "source": [
        "print(\"snigdha\"\"hello\")"
      ],
      "metadata": {
        "colab": {
          "base_uri": "https://localhost:8080/"
        },
        "id": "JWSi9w5RcFb_",
        "outputId": "0d90ee7e-694b-45ec-d2aa-560aa5ca5fb2"
      },
      "execution_count": null,
      "outputs": [
        {
          "output_type": "stream",
          "name": "stdout",
          "text": [
            "snigdhahello\n"
          ]
        }
      ]
    },
    {
      "cell_type": "code",
      "source": [
        "print(\"🚀\")"
      ],
      "metadata": {
        "colab": {
          "base_uri": "https://localhost:8080/"
        },
        "id": "NMenNu9qcFYj",
        "outputId": "8ecca8ea-3602-46e0-f67d-069e0fa1e76f"
      },
      "execution_count": null,
      "outputs": [
        {
          "output_type": "stream",
          "name": "stdout",
          "text": [
            "🚀\n"
          ]
        }
      ]
    },
    {
      "cell_type": "code",
      "source": [
        "print(🚀)"
      ],
      "metadata": {
        "colab": {
          "base_uri": "https://localhost:8080/",
          "height": 106
        },
        "id": "Ihxi0JwPcTEt",
        "outputId": "ce43a015-3537-42a4-b50a-44b10583bf90"
      },
      "execution_count": null,
      "outputs": [
        {
          "output_type": "error",
          "ename": "SyntaxError",
          "evalue": "invalid character '🚀' (U+1F680) (ipython-input-1838804242.py, line 1)",
          "traceback": [
            "\u001b[0;36m  File \u001b[0;32m\"/tmp/ipython-input-1838804242.py\"\u001b[0;36m, line \u001b[0;32m1\u001b[0m\n\u001b[0;31m    print(🚀)\u001b[0m\n\u001b[0m          ^\u001b[0m\n\u001b[0;31mSyntaxError\u001b[0m\u001b[0;31m:\u001b[0m invalid character '🚀' (U+1F680)\n"
          ]
        }
      ]
    },
    {
      "cell_type": "code",
      "source": [
        "print(\"he said \\\"hi\\\"\")"
      ],
      "metadata": {
        "colab": {
          "base_uri": "https://localhost:8080/"
        },
        "id": "TRCZmXY5dUhd",
        "outputId": "42bcbe9a-3ecd-40db-9647-98db7cf73405"
      },
      "execution_count": null,
      "outputs": [
        {
          "output_type": "stream",
          "name": "stdout",
          "text": [
            "he said \"hi\"\n"
          ]
        }
      ]
    },
    {
      "cell_type": "code",
      "source": [
        "print(\"I'm learning Python\")   # ✅ works (outer \" \" ; inner ' is safe)\n"
      ],
      "metadata": {
        "colab": {
          "base_uri": "https://localhost:8080/"
        },
        "id": "M10YOeshdolE",
        "outputId": "34bd3a95-fb91-40e5-b386-20b6c41848e0"
      },
      "execution_count": null,
      "outputs": [
        {
          "output_type": "stream",
          "name": "stdout",
          "text": [
            "I'm learning Python\n"
          ]
        }
      ]
    },
    {
      "cell_type": "code",
      "source": [
        "print('He said \"hi\"')          # ✅ works (outer ' ' ; inner \" is safe)\n"
      ],
      "metadata": {
        "colab": {
          "base_uri": "https://localhost:8080/"
        },
        "id": "4mkxwgl5ds4Q",
        "outputId": "74553f1d-82b1-414f-d09a-726e10f8323a"
      },
      "execution_count": null,
      "outputs": [
        {
          "output_type": "stream",
          "name": "stdout",
          "text": [
            "He said \"hi\"\n"
          ]
        }
      ]
    },
    {
      "cell_type": "code",
      "source": [
        "print('it \\'s \\'s sunny outside')"
      ],
      "metadata": {
        "colab": {
          "base_uri": "https://localhost:8080/"
        },
        "id": "mGnM306XdxlW",
        "outputId": "de8d1ce4-c109-4797-97e1-938879bd792c"
      },
      "execution_count": null,
      "outputs": [
        {
          "output_type": "stream",
          "name": "stdout",
          "text": [
            "it 's 's sunny outside\n"
          ]
        }
      ]
    },
    {
      "cell_type": "code",
      "source": [
        "print(\"she\n",
        "was\n",
        "      butterfly\")"
      ],
      "metadata": {
        "colab": {
          "base_uri": "https://localhost:8080/",
          "height": 106
        },
        "id": "Q07BZ_aaeYIx",
        "outputId": "b43828bc-2211-4bb9-d67f-f6544cd01feb"
      },
      "execution_count": null,
      "outputs": [
        {
          "output_type": "error",
          "ename": "SyntaxError",
          "evalue": "unterminated string literal (detected at line 1) (ipython-input-1175978132.py, line 1)",
          "traceback": [
            "\u001b[0;36m  File \u001b[0;32m\"/tmp/ipython-input-1175978132.py\"\u001b[0;36m, line \u001b[0;32m1\u001b[0m\n\u001b[0;31m    print(\"she\u001b[0m\n\u001b[0m          ^\u001b[0m\n\u001b[0;31mSyntaxError\u001b[0m\u001b[0;31m:\u001b[0m unterminated string literal (detected at line 1)\n"
          ]
        }
      ]
    },
    {
      "cell_type": "code",
      "source": [
        "\n",
        "print(\"\"\"she\n",
        "was\n",
        "      butterfly\"\"\")"
      ],
      "metadata": {
        "colab": {
          "base_uri": "https://localhost:8080/"
        },
        "id": "mAM0sguhePFW",
        "outputId": "781ac2db-99f6-4a6d-8f44-678d05fe165e"
      },
      "execution_count": null,
      "outputs": [
        {
          "output_type": "stream",
          "name": "stdout",
          "text": [
            "she\n",
            "was  \n",
            "      butterfly\n"
          ]
        }
      ]
    },
    {
      "cell_type": "code",
      "source": [
        "print(\"snigdha\",\"reddy\",\"data_scientist\", sep=(\"_\"))"
      ],
      "metadata": {
        "colab": {
          "base_uri": "https://localhost:8080/"
        },
        "id": "IloILzujf8Eu",
        "outputId": "ae1f689d-826c-4ccd-adaa-e8ac71ef0f7f"
      },
      "execution_count": null,
      "outputs": [
        {
          "output_type": "stream",
          "name": "stdout",
          "text": [
            "snigdha_reddy_data_scientist\n"
          ]
        }
      ]
    },
    {
      "cell_type": "code",
      "source": [
        "print(\"university_of_north_texas\", end=\" \")\n",
        "print(\"data science\")\n",
        "\n",
        "print(\"python\\ndrawing\")\n",
        "\n",
        "print(\"python \\n drwaing\")\n",
        "\n",
        "print(\"python \\n\")\n",
        "print(\"   drawing\")"
      ],
      "metadata": {
        "colab": {
          "base_uri": "https://localhost:8080/"
        },
        "id": "t9hqrlNMg6VF",
        "outputId": "d5f098a6-a838-4d20-9d55-2ad8e805f8a5"
      },
      "execution_count": null,
      "outputs": [
        {
          "output_type": "stream",
          "name": "stdout",
          "text": [
            "university_of_north_texas data science\n",
            "python\n",
            "drawing\n",
            "python \n",
            " drwaing\n",
            "python \n",
            "\n",
            "   drawing\n"
          ]
        }
      ]
    },
    {
      "cell_type": "code",
      "source": [
        "print(\"course\\tscore\\tmembers\")\n",
        "print(\"course \\t score \\t members\")\n",
        "\n",
        "print(\"course \\t\")\n",
        "print(\"scoure \\t\")\n",
        "print(\"members\")\n"
      ],
      "metadata": {
        "colab": {
          "base_uri": "https://localhost:8080/"
        },
        "id": "isyDVQdciXxc",
        "outputId": "edecc00b-01b7-43ff-f8ab-aa6eda5f3248"
      },
      "execution_count": null,
      "outputs": [
        {
          "output_type": "stream",
          "name": "stdout",
          "text": [
            "course\tscore\tmembers\n",
            "course \t score \t members\n",
            "course \t\n",
            "scoure \t\n",
            "members\n"
          ]
        }
      ]
    },
    {
      "cell_type": "markdown",
      "source": [
        "A variable is just a label you stick on a box so you can find what’s inside later."
      ],
      "metadata": {
        "id": "7zVC5dt-j9p4"
      }
    },
    {
      "cell_type": "code",
      "source": [],
      "metadata": {
        "id": "colLJqFdj_yp"
      },
      "execution_count": null,
      "outputs": []
    },
    {
      "cell_type": "code",
      "source": [
        "a=1"
      ],
      "metadata": {
        "id": "4Tn9102FpfyW"
      },
      "execution_count": null,
      "outputs": []
    },
    {
      "cell_type": "code",
      "source": [
        "print(a)"
      ],
      "metadata": {
        "colab": {
          "base_uri": "https://localhost:8080/"
        },
        "id": "Zro-azfKpg-x",
        "outputId": "fb1dec2f-0ff1-48be-a386-72c3b115231e"
      },
      "execution_count": null,
      "outputs": [
        {
          "output_type": "stream",
          "name": "stdout",
          "text": [
            "1\n"
          ]
        }
      ]
    },
    {
      "cell_type": "code",
      "source": [
        "a=3"
      ],
      "metadata": {
        "id": "57Wn9F2npjdc"
      },
      "execution_count": null,
      "outputs": []
    },
    {
      "cell_type": "code",
      "source": [
        "print(a)"
      ],
      "metadata": {
        "colab": {
          "base_uri": "https://localhost:8080/"
        },
        "id": "j98zwU0_pluN",
        "outputId": "fe3a14ec-6303-4263-c290-6971ac30a9c6"
      },
      "execution_count": null,
      "outputs": [
        {
          "output_type": "stream",
          "name": "stdout",
          "text": [
            "3\n"
          ]
        }
      ]
    },
    {
      "cell_type": "code",
      "source": [
        "a=a+3"
      ],
      "metadata": {
        "id": "IXsRTirtpns2"
      },
      "execution_count": null,
      "outputs": []
    },
    {
      "cell_type": "code",
      "source": [
        "print(a)"
      ],
      "metadata": {
        "colab": {
          "base_uri": "https://localhost:8080/"
        },
        "id": "jD7APmEtpq75",
        "outputId": "3272d554-b95b-4185-abd7-551655c13a54"
      },
      "execution_count": null,
      "outputs": [
        {
          "output_type": "stream",
          "name": "stdout",
          "text": [
            "6\n"
          ]
        }
      ]
    },
    {
      "cell_type": "code",
      "source": [
        "a=1\n",
        "a=3\n",
        "a=a+3\n",
        "print(a)"
      ],
      "metadata": {
        "colab": {
          "base_uri": "https://localhost:8080/"
        },
        "id": "DDwICewVpsxx",
        "outputId": "70b503d7-912c-4f62-921a-a81636cf96f2"
      },
      "execution_count": null,
      "outputs": [
        {
          "output_type": "stream",
          "name": "stdout",
          "text": [
            "6\n"
          ]
        }
      ]
    },
    {
      "cell_type": "code",
      "source": [],
      "metadata": {
        "id": "iHBHnUEFpuBn"
      },
      "execution_count": null,
      "outputs": []
    }
  ]
}